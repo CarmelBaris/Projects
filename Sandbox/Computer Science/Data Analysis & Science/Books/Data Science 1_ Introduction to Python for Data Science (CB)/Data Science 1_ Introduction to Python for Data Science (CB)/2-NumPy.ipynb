{
  "cells": [
    {
      "metadata": {},
      "cell_type": "markdown",
      "source": "# Introduction to NumPy\n* de facto Python package for numerical processing\n* written in C, not Python\n* partially responsible for Python being as popular as it is"
    },
    {
      "metadata": {
        "trusted": true
      },
      "cell_type": "code",
      "source": "# convention is to rename it\nimport numpy as np",
      "execution_count": 10,
      "outputs": []
    },
    {
      "metadata": {},
      "cell_type": "markdown",
      "source": "## Built-In Help\n\n\n### Exercise"
    },
    {
      "metadata": {
        "trusted": true
      },
      "cell_type": "code",
      "source": "# Place your cursor after the period and press <TAB>:\nnp.",
      "execution_count": 11,
      "outputs": [
        {
          "output_type": "error",
          "ename": "SyntaxError",
          "evalue": "invalid syntax (<ipython-input-11-f0faa50f3d63>, line 2)",
          "traceback": [
            "\u001b[0;36m  File \u001b[0;32m\"<ipython-input-11-f0faa50f3d63>\"\u001b[0;36m, line \u001b[0;32m2\u001b[0m\n\u001b[0;31m    np.\u001b[0m\n\u001b[0m       ^\u001b[0m\n\u001b[0;31mSyntaxError\u001b[0m\u001b[0;31m:\u001b[0m invalid syntax\n"
          ]
        }
      ]
    },
    {
      "metadata": {},
      "cell_type": "markdown",
      "source": "\n\n### Exercise"
    },
    {
      "metadata": {
        "trusted": true
      },
      "cell_type": "code",
      "source": "# Replace 'add' below with a few different NumPy function names and look over the documentation:\nnp.add?",
      "execution_count": 12,
      "outputs": []
    },
    {
      "metadata": {},
      "cell_type": "markdown",
      "source": "## NumPy arrays: a specialized data structure for analysis\n\n> **Learning goal:** By the end of this subsection, you should have a basic understanding of what NumPy arrays are and how they differ from the other Python data structures you have studied thus far."
    },
    {
      "metadata": {},
      "cell_type": "markdown",
      "source": "### Lists in Python\n"
    },
    {
      "metadata": {
        "trusted": true
      },
      "cell_type": "code",
      "source": "my_list = list(range(10))\nmy_list [2] = 'two'\nmy_list",
      "execution_count": 13,
      "outputs": [
        {
          "output_type": "execute_result",
          "execution_count": 13,
          "data": {
            "text/plain": "[0, 1, 'two', 3, 4, 5, 6, 7, 8, 9]"
          },
          "metadata": {}
        }
      ]
    },
    {
      "metadata": {},
      "cell_type": "markdown",
      "source": "### List Comprehension with Types"
    },
    {
      "metadata": {
        "trusted": true
      },
      "cell_type": "code",
      "source": "[type(item) for item in my_list]",
      "execution_count": 14,
      "outputs": [
        {
          "output_type": "execute_result",
          "execution_count": 14,
          "data": {
            "text/plain": "[int, int, str, int, int, int, int, int, int, int]"
          },
          "metadata": {}
        }
      ]
    },
    {
      "metadata": {},
      "cell_type": "markdown",
      "source": "# **Share**"
    },
    {
      "metadata": {
        "trusted": true
      },
      "cell_type": "code",
      "source": "myList2 = [True, \"2\", 3.0, 4]\n[type(item) for item in myList2]",
      "execution_count": 15,
      "outputs": [
        {
          "output_type": "execute_result",
          "execution_count": 15,
          "data": {
            "text/plain": "[bool, str, float, int]"
          },
          "metadata": {}
        }
      ]
    },
    {
      "metadata": {},
      "cell_type": "markdown",
      "source": "## What does an integer look like under the hood?\n<img src=\"Images/numpy1.png\" height=600px width=600px>"
    },
    {
      "metadata": {},
      "cell_type": "markdown",
      "source": "## What does a Python list look like under the hood?\n<img src=\"Images/numpy2.png\" height=500px width=500px>"
    },
    {
      "metadata": {},
      "cell_type": "markdown",
      "source": "## NumPy Arrays\n* Python is an awful language for numerics\n * it was designed for text processing\n* Numpy speeds things up and gives us vectorized operations"
    },
    {
      "metadata": {},
      "cell_type": "markdown",
      "source": "### Creating NumPy arrays method 1: using Python lists"
    },
    {
      "metadata": {
        "trusted": true
      },
      "cell_type": "code",
      "source": "# Create an integer array:\nnp.array([1, 4, 2, 5, 3])",
      "execution_count": 16,
      "outputs": [
        {
          "output_type": "execute_result",
          "execution_count": 16,
          "data": {
            "text/plain": "array([1, 4, 2, 5, 3])"
          },
          "metadata": {}
        }
      ]
    },
    {
      "metadata": {},
      "cell_type": "markdown",
      "source": "**Think, Pair, Share**"
    },
    {
      "metadata": {
        "trusted": true
      },
      "cell_type": "code",
      "source": "np.array([3.14, 4, 2, 3])",
      "execution_count": 17,
      "outputs": [
        {
          "output_type": "execute_result",
          "execution_count": 17,
          "data": {
            "text/plain": "array([3.14, 4.  , 2.  , 3.  ])"
          },
          "metadata": {}
        }
      ]
    },
    {
      "metadata": {},
      "cell_type": "markdown",
      "source": "### Exercise"
    },
    {
      "metadata": {
        "trusted": true
      },
      "cell_type": "code",
      "source": "# What happens if you construct an array using a list that contains a combination of integers, floats, and strings?\narray(['3.14', '4.4', '2', 'foo'], dtype = '<U4') # Unicode is a way of encoding all characters, in all the world.",
      "execution_count": 18,
      "outputs": [
        {
          "output_type": "error",
          "ename": "NameError",
          "evalue": "name 'array' is not defined",
          "traceback": [
            "\u001b[0;31m---------------------------------------------------------------------------\u001b[0m",
            "\u001b[0;31mNameError\u001b[0m                                 Traceback (most recent call last)",
            "\u001b[0;32m<ipython-input-18-77b1b0ace880>\u001b[0m in \u001b[0;36m<module>\u001b[0;34m()\u001b[0m\n\u001b[1;32m      1\u001b[0m \u001b[0;31m# What happens if you construct an array using a list that contains a combination of integers, floats, and strings?\u001b[0m\u001b[0;34m\u001b[0m\u001b[0;34m\u001b[0m\u001b[0m\n\u001b[0;32m----> 2\u001b[0;31m \u001b[0marray\u001b[0m\u001b[0;34m(\u001b[0m\u001b[0;34m[\u001b[0m\u001b[0;34m'3.14'\u001b[0m\u001b[0;34m,\u001b[0m \u001b[0;34m'4.4'\u001b[0m\u001b[0;34m,\u001b[0m \u001b[0;34m'2'\u001b[0m\u001b[0;34m,\u001b[0m \u001b[0;34m'foo'\u001b[0m\u001b[0;34m]\u001b[0m\u001b[0;34m,\u001b[0m \u001b[0mdtype\u001b[0m \u001b[0;34m=\u001b[0m \u001b[0;34m'<U4'\u001b[0m\u001b[0;34m)\u001b[0m \u001b[0;31m# Unicode is a way of encoding all characters, in all the world.\u001b[0m\u001b[0;34m\u001b[0m\u001b[0m\n\u001b[0m",
            "\u001b[0;31mNameError\u001b[0m: name 'array' is not defined"
          ]
        }
      ]
    },
    {
      "metadata": {},
      "cell_type": "markdown",
      "source": "**Explicit Typing**"
    },
    {
      "metadata": {
        "trusted": true
      },
      "cell_type": "code",
      "source": "np.array([1., 2., 3., 4.], dtype='float32') # 32-bit float. # single dimensional - vector.\n# we want NumPy to keep track of types.",
      "execution_count": 19,
      "outputs": [
        {
          "output_type": "execute_result",
          "execution_count": 19,
          "data": {
            "text/plain": "array([1., 2., 3., 4.], dtype=float32)"
          },
          "metadata": {}
        }
      ]
    },
    {
      "metadata": {},
      "cell_type": "markdown",
      "source": "### Exercise"
    },
    {
      "metadata": {
        "trusted": true
      },
      "cell_type": "code",
      "source": "# Try this using a different dtype https://numpy.org/devdocs/user/basics.types.html",
      "execution_count": 20,
      "outputs": []
    },
    {
      "metadata": {},
      "cell_type": "markdown",
      "source": "### Multi-Dimensional Array\n\n**Think, Pair, Share**"
    },
    {
      "metadata": {
        "trusted": true
      },
      "cell_type": "code",
      "source": "# nested lists result in multi-dimensional arrays\nmatrix = np.array([range(i, i + 3) for i in [2, 4, 6]])\nmatrix",
      "execution_count": 21,
      "outputs": [
        {
          "output_type": "execute_result",
          "execution_count": 21,
          "data": {
            "text/plain": "array([[2, 3, 4],\n       [4, 5, 6],\n       [6, 7, 8]])"
          },
          "metadata": {}
        }
      ]
    },
    {
      "metadata": {
        "trusted": true
      },
      "cell_type": "code",
      "source": "matrix.shape",
      "execution_count": 22,
      "outputs": [
        {
          "output_type": "execute_result",
          "execution_count": 22,
          "data": {
            "text/plain": "(3, 3)"
          },
          "metadata": {}
        }
      ]
    },
    {
      "metadata": {},
      "cell_type": "markdown",
      "source": "## What does a NumPy array look like under the hood?\n<img src=\"Images/numpy3.png\" height=500px width=500px>"
    },
    {
      "metadata": {},
      "cell_type": "markdown",
      "source": "> **Takeaway:** NumPy arrays are a data structure similar to Python lists that provide high performance when storing and working on large amounts of homogeneous data—precisely the kind of data that you will encounter frequently in doing data science. NumPy arrays support many data types beyond those discussed in this course. With all of that said, however, don’t worry about memorizing all of the NumPy dtypes. **It’s often just necessary to care about the general kind of data you’re dealing with: floating point, integer, Boolean, string, or general Python object.**"
    },
    {
      "metadata": {},
      "cell_type": "markdown",
      "source": "## Method 2 for Creating NumPy Arrays: building from scratch"
    },
    {
      "metadata": {
        "trusted": true
      },
      "cell_type": "code",
      "source": "np.zeros(10, dtype=int)",
      "execution_count": 23,
      "outputs": [
        {
          "output_type": "execute_result",
          "execution_count": 23,
          "data": {
            "text/plain": "array([0, 0, 0, 0, 0, 0, 0, 0, 0, 0])"
          },
          "metadata": {}
        }
      ]
    },
    {
      "metadata": {
        "trusted": true
      },
      "cell_type": "code",
      "source": "np.ones((3, 5), dtype=float)",
      "execution_count": 24,
      "outputs": [
        {
          "output_type": "execute_result",
          "execution_count": 24,
          "data": {
            "text/plain": "array([[1., 1., 1., 1., 1.],\n       [1., 1., 1., 1., 1.],\n       [1., 1., 1., 1., 1.]])"
          },
          "metadata": {}
        }
      ]
    },
    {
      "metadata": {
        "trusted": true
      },
      "cell_type": "code",
      "source": "np.full((3, 5), 3.14)",
      "execution_count": 25,
      "outputs": [
        {
          "output_type": "execute_result",
          "execution_count": 25,
          "data": {
            "text/plain": "array([[3.14, 3.14, 3.14, 3.14, 3.14],\n       [3.14, 3.14, 3.14, 3.14, 3.14],\n       [3.14, 3.14, 3.14, 3.14, 3.14]])"
          },
          "metadata": {}
        }
      ]
    },
    {
      "metadata": {
        "trusted": true
      },
      "cell_type": "code",
      "source": "np.arange(0, 20, 2)",
      "execution_count": 26,
      "outputs": [
        {
          "output_type": "execute_result",
          "execution_count": 26,
          "data": {
            "text/plain": "array([ 0,  2,  4,  6,  8, 10, 12, 14, 16, 18])"
          },
          "metadata": {}
        }
      ]
    },
    {
      "metadata": {
        "trusted": true
      },
      "cell_type": "code",
      "source": "np.linspace(0, 1, 5)",
      "execution_count": 27,
      "outputs": [
        {
          "output_type": "execute_result",
          "execution_count": 27,
          "data": {
            "text/plain": "array([0.  , 0.25, 0.5 , 0.75, 1.  ])"
          },
          "metadata": {}
        }
      ]
    },
    {
      "metadata": {
        "trusted": true
      },
      "cell_type": "code",
      "source": "np.random.random((3, 3))",
      "execution_count": 28,
      "outputs": [
        {
          "output_type": "execute_result",
          "execution_count": 28,
          "data": {
            "text/plain": "array([[0.15036784, 0.09034424, 0.39727241],\n       [0.1917522 , 0.73491317, 0.41316983],\n       [0.62923677, 0.48886605, 0.56522355]])"
          },
          "metadata": {}
        }
      ]
    },
    {
      "metadata": {
        "trusted": true
      },
      "cell_type": "code",
      "source": "np.random.normal(0, 1, (3, 3)) # a distribution of positive and negative numbers",
      "execution_count": 29,
      "outputs": [
        {
          "output_type": "execute_result",
          "execution_count": 29,
          "data": {
            "text/plain": "array([[-0.94756399,  0.18546595,  0.25974141],\n       [ 0.24887534,  0.45550952,  1.22511783],\n       [-0.63412557, -0.97633484, -2.32367218]])"
          },
          "metadata": {}
        }
      ]
    },
    {
      "metadata": {
        "trusted": true
      },
      "cell_type": "code",
      "source": "np.random.randint(0, 10, (3, 3)) # random integers",
      "execution_count": 31,
      "outputs": [
        {
          "output_type": "execute_result",
          "execution_count": 31,
          "data": {
            "text/plain": "array([[2, 9, 4],\n       [5, 6, 5],\n       [7, 4, 8]])"
          },
          "metadata": {}
        }
      ]
    },
    {
      "metadata": {
        "trusted": true
      },
      "cell_type": "code",
      "source": "np.eye(3) # identity matrix",
      "execution_count": 32,
      "outputs": [
        {
          "output_type": "execute_result",
          "execution_count": 32,
          "data": {
            "text/plain": "array([[1., 0., 0.],\n       [0., 1., 0.],\n       [0., 0., 1.]])"
          },
          "metadata": {}
        }
      ]
    },
    {
      "metadata": {
        "trusted": true
      },
      "cell_type": "code",
      "source": "np.empty(10) # an empty (not initialized matrix) with 10 items in it.\n# in some languages, if you don't give them an initial value, they use what was left in the computer's memory",
      "execution_count": 33,
      "outputs": [
        {
          "output_type": "execute_result",
          "execution_count": 33,
          "data": {
            "text/plain": "array([0.00000000e+000, 0.00000000e+000, 6.94088877e-310, 6.94088876e-310,\n       6.94088890e-310, 6.94088876e-310, 6.94088933e-310, 0.00000000e+000,\n       6.94089202e-310, 1.90979621e-310])"
          },
          "metadata": {}
        }
      ]
    },
    {
      "metadata": {},
      "cell_type": "markdown",
      "source": "## Working with NumPy arrays: the basics\n\n> **Learning goal:** By the end of this subsection, you should be comfortable working with NumPy arrays in basic ways.\n\n**Similar to Lists:**\n- **Arrays attributes**: Assessing the size, shape, and data types of arrays\n- **Indexing arrays**: Getting and setting the value of individual array elements\n- **Slicing arrays**: Getting and setting smaller subarrays within a larger array\n- **Reshaping arrays**: Changing the shape of a given array\n- **Joining and splitting arrays**: Combining multiple arrays into one and splitting one array into multiple arrays"
    },
    {
      "metadata": {},
      "cell_type": "markdown",
      "source": "## Array attributes"
    },
    {
      "metadata": {
        "trusted": true
      },
      "cell_type": "code",
      "source": "import numpy as np\nnp.random.seed(0)  # printing a random seed (starting point) for reproducibility\n# every number I generate after using the same seed - will be the same if someone else uses the same seed.\n# \"random\" is not really random, they will repeat over time.\n\na1 = np.random.randint(10, size=6)          # One-dimensional array\na2 = np.random.randint(10, size=(3, 4))     # Two-dimensional array\na3 = np.random.randint(10, size=(3, 4, 5))  # Three-dimensional array, 3 by 4 by 5. They're all integers",
      "execution_count": 35,
      "outputs": []
    },
    {
      "metadata": {},
      "cell_type": "markdown",
      "source": "### Array Types"
    },
    {
      "metadata": {
        "trusted": true
      },
      "cell_type": "code",
      "source": "print(\"dtype:\", a3.dtype)",
      "execution_count": 36,
      "outputs": [
        {
          "output_type": "stream",
          "text": "dtype: int64\n",
          "name": "stdout"
        }
      ]
    },
    {
      "metadata": {},
      "cell_type": "markdown",
      "source": "\n\n### Exercise:"
    },
    {
      "metadata": {
        "trusted": true
      },
      "cell_type": "code",
      "source": "# Change the values in this code snippet to look at the attributes for a1, a2, and a3:\nprint(\"a3 ndim: \", a3.ndim)\nprint(\"a3 shape:\", a3.shape)\nprint(\"a3 size: \", a3.size)",
      "execution_count": 38,
      "outputs": [
        {
          "output_type": "stream",
          "text": "a3 ndim:  3\na3 shape: (3, 4, 5)\na3 size:  60\n",
          "name": "stdout"
        }
      ]
    },
    {
      "metadata": {},
      "cell_type": "markdown",
      "source": "## Exercise"
    },
    {
      "metadata": {
        "trusted": true
      },
      "cell_type": "code",
      "source": "# Explore the dtype for the other arrays.\n# What dtypes do you predict them to have?\nprint(\"dtype:\", a3.dtype)",
      "execution_count": 39,
      "outputs": [
        {
          "output_type": "stream",
          "text": "dtype: int64\n",
          "name": "stdout"
        }
      ]
    },
    {
      "metadata": {},
      "cell_type": "markdown",
      "source": "## Indexing arrays\n\n**Quick Review**"
    },
    {
      "metadata": {
        "trusted": true
      },
      "cell_type": "code",
      "source": "a1",
      "execution_count": 40,
      "outputs": [
        {
          "output_type": "execute_result",
          "execution_count": 40,
          "data": {
            "text/plain": "array([5, 0, 3, 3, 7, 9])"
          },
          "metadata": {}
        }
      ]
    },
    {
      "metadata": {
        "trusted": true
      },
      "cell_type": "code",
      "source": "a1[0]",
      "execution_count": 41,
      "outputs": [
        {
          "output_type": "execute_result",
          "execution_count": 41,
          "data": {
            "text/plain": "5"
          },
          "metadata": {}
        }
      ]
    },
    {
      "metadata": {
        "trusted": true
      },
      "cell_type": "code",
      "source": "a1[4]",
      "execution_count": 42,
      "outputs": [
        {
          "output_type": "execute_result",
          "execution_count": 42,
          "data": {
            "text/plain": "7"
          },
          "metadata": {}
        }
      ]
    },
    {
      "metadata": {
        "trusted": true
      },
      "cell_type": "code",
      "source": "a1[-1]",
      "execution_count": 43,
      "outputs": [
        {
          "output_type": "execute_result",
          "execution_count": 43,
          "data": {
            "text/plain": "9"
          },
          "metadata": {}
        }
      ]
    },
    {
      "metadata": {
        "trusted": true
      },
      "cell_type": "code",
      "source": "a1[-2]",
      "execution_count": 44,
      "outputs": [
        {
          "output_type": "execute_result",
          "execution_count": 44,
          "data": {
            "text/plain": "7"
          },
          "metadata": {}
        }
      ]
    },
    {
      "metadata": {},
      "cell_type": "markdown",
      "source": "### Multi-Dimensional Arrays"
    },
    {
      "metadata": {
        "trusted": true
      },
      "cell_type": "code",
      "source": "a2",
      "execution_count": 45,
      "outputs": [
        {
          "output_type": "execute_result",
          "execution_count": 45,
          "data": {
            "text/plain": "array([[3, 5, 2, 4],\n       [7, 6, 8, 8],\n       [1, 6, 7, 7]])"
          },
          "metadata": {}
        }
      ]
    },
    {
      "metadata": {
        "trusted": true
      },
      "cell_type": "code",
      "source": "a2[0, 0] # in NumPy, we can use commas for indexing, instead of colons (:)",
      "execution_count": 46,
      "outputs": [
        {
          "output_type": "execute_result",
          "execution_count": 46,
          "data": {
            "text/plain": "3"
          },
          "metadata": {}
        }
      ]
    },
    {
      "metadata": {
        "trusted": true
      },
      "cell_type": "code",
      "source": "a2[2, 0]",
      "execution_count": 48,
      "outputs": [
        {
          "output_type": "execute_result",
          "execution_count": 48,
          "data": {
            "text/plain": "1"
          },
          "metadata": {}
        }
      ]
    },
    {
      "metadata": {
        "trusted": true
      },
      "cell_type": "code",
      "source": "a2[2, -1]",
      "execution_count": 49,
      "outputs": [
        {
          "output_type": "execute_result",
          "execution_count": 49,
          "data": {
            "text/plain": "7"
          },
          "metadata": {}
        }
      ]
    },
    {
      "metadata": {
        "trusted": true
      },
      "cell_type": "code",
      "source": "a2[0, 0] = 12\na2",
      "execution_count": 50,
      "outputs": [
        {
          "output_type": "execute_result",
          "execution_count": 50,
          "data": {
            "text/plain": "array([[12,  5,  2,  4],\n       [ 7,  6,  8,  8],\n       [ 1,  6,  7,  7]])"
          },
          "metadata": {}
        }
      ]
    },
    {
      "metadata": {
        "trusted": true
      },
      "cell_type": "code",
      "source": "a1[0] = 3.14159\na1",
      "execution_count": 51,
      "outputs": [
        {
          "output_type": "execute_result",
          "execution_count": 51,
          "data": {
            "text/plain": "array([3, 0, 3, 3, 7, 9])"
          },
          "metadata": {}
        }
      ]
    },
    {
      "metadata": {},
      "cell_type": "markdown",
      "source": "## Exercise"
    },
    {
      "metadata": {
        "trusted": true
      },
      "cell_type": "code",
      "source": "# What happens if you try to insert a string into a1?\n# Hint: try both a string like '3' and one like 'three'\na1[0] = 'zero' # floats will be truncated to ints, but strings are not allowed (NumPy enforces this)",
      "execution_count": 53,
      "outputs": [
        {
          "output_type": "error",
          "ename": "ValueError",
          "evalue": "invalid literal for int() with base 10: 'zero'",
          "traceback": [
            "\u001b[0;31m---------------------------------------------------------------------------\u001b[0m",
            "\u001b[0;31mValueError\u001b[0m                                Traceback (most recent call last)",
            "\u001b[0;32m<ipython-input-53-c51321de9c16>\u001b[0m in \u001b[0;36m<module>\u001b[0;34m()\u001b[0m\n\u001b[1;32m      1\u001b[0m \u001b[0;31m# What happens if you try to insert a string into a1?\u001b[0m\u001b[0;34m\u001b[0m\u001b[0;34m\u001b[0m\u001b[0m\n\u001b[1;32m      2\u001b[0m \u001b[0;31m# Hint: try both a string like '3' and one like 'three'\u001b[0m\u001b[0;34m\u001b[0m\u001b[0;34m\u001b[0m\u001b[0m\n\u001b[0;32m----> 3\u001b[0;31m \u001b[0ma1\u001b[0m\u001b[0;34m[\u001b[0m\u001b[0;36m0\u001b[0m\u001b[0;34m]\u001b[0m \u001b[0;34m=\u001b[0m \u001b[0;34m'zero'\u001b[0m \u001b[0;31m# floats will be truncated to ints, but strings are not allowed (NumPy enforces this)\u001b[0m\u001b[0;34m\u001b[0m\u001b[0m\n\u001b[0m",
            "\u001b[0;31mValueError\u001b[0m: invalid literal for int() with base 10: 'zero'"
          ]
        }
      ]
    },
    {
      "metadata": {},
      "cell_type": "markdown",
      "source": "## Slicing arrays"
    },
    {
      "metadata": {},
      "cell_type": "markdown",
      "source": "### One-dimensional slices"
    },
    {
      "metadata": {
        "trusted": true
      },
      "cell_type": "code",
      "source": "a = np.arange(10)\na",
      "execution_count": 54,
      "outputs": [
        {
          "output_type": "execute_result",
          "execution_count": 54,
          "data": {
            "text/plain": "array([0, 1, 2, 3, 4, 5, 6, 7, 8, 9])"
          },
          "metadata": {}
        }
      ]
    },
    {
      "metadata": {
        "trusted": true
      },
      "cell_type": "code",
      "source": "a[:5]",
      "execution_count": 55,
      "outputs": [
        {
          "output_type": "execute_result",
          "execution_count": 55,
          "data": {
            "text/plain": "array([0, 1, 2, 3, 4])"
          },
          "metadata": {}
        }
      ]
    },
    {
      "metadata": {
        "trusted": true
      },
      "cell_type": "code",
      "source": "a[5:]",
      "execution_count": 56,
      "outputs": [
        {
          "output_type": "execute_result",
          "execution_count": 56,
          "data": {
            "text/plain": "array([5, 6, 7, 8, 9])"
          },
          "metadata": {}
        }
      ]
    },
    {
      "metadata": {
        "trusted": true
      },
      "cell_type": "code",
      "source": "a[4:7]",
      "execution_count": 57,
      "outputs": [
        {
          "output_type": "execute_result",
          "execution_count": 57,
          "data": {
            "text/plain": "array([4, 5, 6])"
          },
          "metadata": {}
        }
      ]
    },
    {
      "metadata": {},
      "cell_type": "markdown",
      "source": "### Slicing with Stride/Step"
    },
    {
      "metadata": {
        "trusted": true
      },
      "cell_type": "code",
      "source": "a[::2]",
      "execution_count": 58,
      "outputs": [
        {
          "output_type": "execute_result",
          "execution_count": 58,
          "data": {
            "text/plain": "array([0, 2, 4, 6, 8])"
          },
          "metadata": {}
        }
      ]
    },
    {
      "metadata": {
        "trusted": true
      },
      "cell_type": "code",
      "source": "a[1::2]",
      "execution_count": 59,
      "outputs": [
        {
          "output_type": "execute_result",
          "execution_count": 59,
          "data": {
            "text/plain": "array([1, 3, 5, 7, 9])"
          },
          "metadata": {}
        }
      ]
    },
    {
      "metadata": {
        "trusted": true
      },
      "cell_type": "code",
      "source": "'Microsoft'[::-1] #reversing the container, starting from the end and go to the beginning",
      "execution_count": 65,
      "outputs": [
        {
          "output_type": "execute_result",
          "execution_count": 65,
          "data": {
            "text/plain": "'tfosorciM'"
          },
          "metadata": {}
        }
      ]
    },
    {
      "metadata": {
        "trusted": true
      },
      "cell_type": "code",
      "source": "'Pumpkin'[5::-2]",
      "execution_count": 66,
      "outputs": [
        {
          "output_type": "execute_result",
          "execution_count": 66,
          "data": {
            "text/plain": "'ipu'"
          },
          "metadata": {}
        }
      ]
    },
    {
      "metadata": {},
      "cell_type": "markdown",
      "source": "### Multidimensional slices"
    },
    {
      "metadata": {
        "trusted": true
      },
      "cell_type": "code",
      "source": "a2",
      "execution_count": 67,
      "outputs": [
        {
          "output_type": "execute_result",
          "execution_count": 67,
          "data": {
            "text/plain": "array([[12,  5,  2,  4],\n       [ 7,  6,  8,  8],\n       [ 1,  6,  7,  7]])"
          },
          "metadata": {}
        }
      ]
    },
    {
      "metadata": {
        "trusted": true
      },
      "cell_type": "code",
      "source": "a2[:2, :3]",
      "execution_count": 68,
      "outputs": [
        {
          "output_type": "execute_result",
          "execution_count": 68,
          "data": {
            "text/plain": "array([[12,  5,  2],\n       [ 7,  6,  8]])"
          },
          "metadata": {}
        }
      ]
    },
    {
      "metadata": {
        "trusted": true
      },
      "cell_type": "code",
      "source": "a2[:3, ::2] # give me all columns, but skip every other column",
      "execution_count": 71,
      "outputs": [
        {
          "output_type": "execute_result",
          "execution_count": 71,
          "data": {
            "text/plain": "array([[12,  2],\n       [ 7,  8],\n       [ 1,  7]])"
          },
          "metadata": {}
        }
      ]
    },
    {
      "metadata": {
        "trusted": true
      },
      "cell_type": "code",
      "source": "a2[::-1, ::-1] # give me all rows and all columns, but reverse them both",
      "execution_count": 72,
      "outputs": [
        {
          "output_type": "execute_result",
          "execution_count": 72,
          "data": {
            "text/plain": "array([[ 7,  7,  6,  1],\n       [ 8,  8,  6,  7],\n       [ 4,  2,  5, 12]])"
          },
          "metadata": {}
        }
      ]
    },
    {
      "metadata": {},
      "cell_type": "markdown",
      "source": "### Accessing array rows and columns"
    },
    {
      "metadata": {
        "trusted": true
      },
      "cell_type": "code",
      "source": "print(a2[:, 0])",
      "execution_count": 73,
      "outputs": [
        {
          "output_type": "stream",
          "text": "[12  7  1]\n",
          "name": "stdout"
        }
      ]
    },
    {
      "metadata": {
        "trusted": true
      },
      "cell_type": "code",
      "source": "print(a2[0, :])",
      "execution_count": 74,
      "outputs": [
        {
          "output_type": "stream",
          "text": "[12  5  2  4]\n",
          "name": "stdout"
        }
      ]
    },
    {
      "metadata": {
        "trusted": true
      },
      "cell_type": "code",
      "source": "print(a2[0])",
      "execution_count": 75,
      "outputs": [
        {
          "output_type": "stream",
          "text": "[12  5  2  4]\n",
          "name": "stdout"
        }
      ]
    },
    {
      "metadata": {},
      "cell_type": "markdown",
      "source": "### Slices are no-copy views"
    },
    {
      "metadata": {
        "trusted": true
      },
      "cell_type": "code",
      "source": "print(a2) # when you slice an array, it doesn't make a copy of it",
      "execution_count": 77,
      "outputs": [
        {
          "output_type": "stream",
          "text": "[[12  5  2  4]\n [ 7  6  8  8]\n [ 1  6  7  7]]\n",
          "name": "stdout"
        }
      ]
    },
    {
      "metadata": {
        "trusted": true
      },
      "cell_type": "code",
      "source": "a2_sub = a2[:2, :2]\nprint(a2_sub)",
      "execution_count": 78,
      "outputs": [
        {
          "output_type": "stream",
          "text": "[[12  5]\n [ 7  6]]\n",
          "name": "stdout"
        }
      ]
    },
    {
      "metadata": {
        "trusted": true
      },
      "cell_type": "code",
      "source": "a2_sub[0, 0] = 99 # we change the zero, zero item to ninety-nine\nprint(a2_sub)",
      "execution_count": 81,
      "outputs": [
        {
          "output_type": "stream",
          "text": "[[99  5]\n [ 7  6]]\n",
          "name": "stdout"
        }
      ]
    },
    {
      "metadata": {
        "trusted": true
      },
      "cell_type": "code",
      "source": "print(a2)",
      "execution_count": 82,
      "outputs": [
        {
          "output_type": "stream",
          "text": "[[99  5  2  4]\n [ 7  6  8  8]\n [ 1  6  7  7]]\n",
          "name": "stdout"
        }
      ]
    },
    {
      "metadata": {},
      "cell_type": "markdown",
      "source": "### Copying arrays\n"
    },
    {
      "metadata": {
        "trusted": true
      },
      "cell_type": "code",
      "source": "a2_sub_copy = a2[:2, :2].copy() # the copy method will copy it\nprint(a2_sub_copy)",
      "execution_count": 83,
      "outputs": [
        {
          "output_type": "stream",
          "text": "[[99  5]\n [ 7  6]]\n",
          "name": "stdout"
        }
      ]
    },
    {
      "metadata": {
        "trusted": true
      },
      "cell_type": "code",
      "source": "a2_sub_copy[0, 0] = 42\nprint(a2_sub_copy)",
      "execution_count": 84,
      "outputs": [
        {
          "output_type": "stream",
          "text": "[[42  5]\n [ 7  6]]\n",
          "name": "stdout"
        }
      ]
    },
    {
      "metadata": {
        "trusted": true
      },
      "cell_type": "code",
      "source": "print(a2)",
      "execution_count": 85,
      "outputs": [
        {
          "output_type": "stream",
          "text": "[[99  5  2  4]\n [ 7  6  8  8]\n [ 1  6  7  7]]\n",
          "name": "stdout"
        }
      ]
    },
    {
      "metadata": {},
      "cell_type": "markdown",
      "source": "## Joining and splitting arrays"
    },
    {
      "metadata": {},
      "cell_type": "markdown",
      "source": "### Joining arrays"
    },
    {
      "metadata": {
        "trusted": true
      },
      "cell_type": "code",
      "source": "a = np.array([1, 2, 3])\nb = np.array([3, 2, 1])\nnp.concatenate([a, b])",
      "execution_count": 86,
      "outputs": [
        {
          "output_type": "execute_result",
          "execution_count": 86,
          "data": {
            "text/plain": "array([1, 2, 3, 3, 2, 1])"
          },
          "metadata": {}
        }
      ]
    },
    {
      "metadata": {
        "trusted": true
      },
      "cell_type": "code",
      "source": "c = [99, 99, 99]\nprint(np.concatenate([a, b, c]))",
      "execution_count": 87,
      "outputs": [
        {
          "output_type": "stream",
          "text": "[ 1  2  3  3  2  1 99 99 99]\n",
          "name": "stdout"
        }
      ]
    },
    {
      "metadata": {
        "trusted": true
      },
      "cell_type": "code",
      "source": "grid = np.array([[1, 2, 3],\n                 [4, 5, 6]])",
      "execution_count": 88,
      "outputs": []
    },
    {
      "metadata": {
        "trusted": true
      },
      "cell_type": "code",
      "source": "np.concatenate([grid, grid])",
      "execution_count": 89,
      "outputs": [
        {
          "output_type": "execute_result",
          "execution_count": 89,
          "data": {
            "text/plain": "array([[1, 2, 3],\n       [4, 5, 6],\n       [1, 2, 3],\n       [4, 5, 6]])"
          },
          "metadata": {}
        }
      ]
    },
    {
      "metadata": {},
      "cell_type": "markdown",
      "source": "### Splitting arrays\n**Think, Pair, Share**"
    },
    {
      "metadata": {
        "trusted": true
      },
      "cell_type": "code",
      "source": "a = [1, 2, 3, 99, 99, 3, 2, 1]\na1, a2, a3 = np.split(a, [3, 5]) # in the square brackets are the index positions of the split points\nprint(a1, a2, a3)",
      "execution_count": 90,
      "outputs": [
        {
          "output_type": "stream",
          "text": "[1 2 3] [99 99] [3 2 1]\n",
          "name": "stdout"
        }
      ]
    },
    {
      "metadata": {},
      "cell_type": "markdown",
      "source": "> **Takeaway:** Manipulating datasets is a fundamental part of preparing data for analysis. The skills you learned and practiced here will form building blocks for the most sophisticated data-manipulation you will learn in later sections in this course."
    },
    {
      "metadata": {},
      "cell_type": "markdown",
      "source": "## Sorting arrays"
    },
    {
      "metadata": {
        "trusted": true
      },
      "cell_type": "code",
      "source": "a = np.array([2, 1, 4, 3, 5])\nnp.sort(a) # a is passed as a function parameter, the call-to function doesn't change it",
      "execution_count": 91,
      "outputs": [
        {
          "output_type": "execute_result",
          "execution_count": 91,
          "data": {
            "text/plain": "array([1, 2, 3, 4, 5])"
          },
          "metadata": {}
        }
      ]
    },
    {
      "metadata": {
        "trusted": true
      },
      "cell_type": "code",
      "source": "print(a)",
      "execution_count": 92,
      "outputs": [
        {
          "output_type": "stream",
          "text": "[2 1 4 3 5]\n",
          "name": "stdout"
        }
      ]
    },
    {
      "metadata": {
        "trusted": true
      },
      "cell_type": "code",
      "source": "a.sort() # the method changes \"a\"\nprint(a)",
      "execution_count": 93,
      "outputs": [
        {
          "output_type": "stream",
          "text": "[1 2 3 4 5]\n",
          "name": "stdout"
        }
      ]
    },
    {
      "metadata": {},
      "cell_type": "markdown",
      "source": "## Sorting along rows or columns"
    },
    {
      "metadata": {
        "trusted": true
      },
      "cell_type": "code",
      "source": "rand = np.random.RandomState(42)\ntable = rand.randint(0, 10, (4, 6))\ntable",
      "execution_count": 94,
      "outputs": [
        {
          "output_type": "execute_result",
          "execution_count": 94,
          "data": {
            "text/plain": "array([[6, 3, 7, 4, 6, 9],\n       [2, 6, 7, 4, 3, 7],\n       [7, 2, 5, 4, 1, 7],\n       [5, 1, 4, 0, 9, 5]])"
          },
          "metadata": {}
        }
      ]
    },
    {
      "metadata": {
        "trusted": true
      },
      "cell_type": "code",
      "source": "np.sort(table, axis=0)",
      "execution_count": 95,
      "outputs": [
        {
          "output_type": "execute_result",
          "execution_count": 95,
          "data": {
            "text/plain": "array([[2, 1, 4, 0, 1, 5],\n       [5, 2, 5, 4, 3, 7],\n       [6, 3, 7, 4, 6, 7],\n       [7, 6, 7, 4, 9, 9]])"
          },
          "metadata": {}
        }
      ]
    },
    {
      "metadata": {
        "trusted": true
      },
      "cell_type": "code",
      "source": "np.sort(table, axis=1)",
      "execution_count": 96,
      "outputs": [
        {
          "output_type": "execute_result",
          "execution_count": 96,
          "data": {
            "text/plain": "array([[3, 4, 6, 6, 7, 9],\n       [2, 3, 4, 6, 7, 7],\n       [1, 2, 4, 5, 7, 7],\n       [0, 1, 4, 5, 5, 9]])"
          },
          "metadata": {}
        }
      ]
    },
    {
      "metadata": {},
      "cell_type": "markdown",
      "source": "### NumPy Functions vs. Python Built-In Functions\n\n| Operator\t    | Equivalent ufunc    | Description                           |\n|:--------------|:--------------------|:--------------------------------------|\n|``+``          |``np.add``           |Addition (e.g., ``1 + 1 = 2``)         |\n|``-``          |``np.subtract``      |Subtraction (e.g., ``3 - 2 = 1``)      |\n|``-``          |``np.negative``      |Unary negation (e.g., ``-2``)          |\n|``*``          |``np.multiply``      |Multiplication (e.g., ``2 * 3 = 6``)   |\n|``/``          |``np.divide``        |Division (e.g., ``3 / 2 = 1.5``)       |\n|``//``         |``np.floor_divide``  |Floor division (e.g., ``3 // 2 = 1``)  |\n|``**``         |``np.power``         |Exponentiation (e.g., ``2 ** 3 = 8``)  |\n|``%``          |``np.mod``           |Modulus/remainder (e.g., ``9 % 4 = 1``)|"
    },
    {
      "metadata": {},
      "cell_type": "markdown",
      "source": "### Exponents and logarithms"
    },
    {
      "metadata": {
        "trusted": true
      },
      "cell_type": "code",
      "source": "# math operators have universal functions (ufun)\n# enables us to make the execution faster, when running it in C (NumPy), than in Python\n# if I have a list of items, exp will be the exponent and will be applied to each item in the container\na = [1, 2, 3]\nprint(\"a     =\", a)\nprint(\"e^a   =\", np.exp(a))\nprint(\"2^a   =\", np.exp2(a))\nprint(\"3^a   =\", np.power(3, a))",
      "execution_count": 97,
      "outputs": [
        {
          "output_type": "stream",
          "text": "a     = [1, 2, 3]\ne^a   = [ 2.71828183  7.3890561  20.08553692]\n2^a   = [2. 4. 8.]\n3^a   = [ 3  9 27]\n",
          "name": "stdout"
        }
      ]
    },
    {
      "metadata": {
        "trusted": true
      },
      "cell_type": "code",
      "source": "a = [1, 2, 4, 10]\nprint(\"a        =\", a)\nprint(\"ln(a)    =\", np.log(a))\nprint(\"log2(a)  =\", np.log2(a))\nprint(\"log10(a) =\", np.log10(a))",
      "execution_count": 99,
      "outputs": [
        {
          "output_type": "stream",
          "text": "a        = [1, 2, 4, 10]\nln(a)    = [0.         0.69314718 1.38629436 2.30258509]\nlog2(a)  = [0.         1.         2.         3.32192809]\nlog10(a) = [0.         0.30103    0.60205999 1.        ]\n",
          "name": "stdout"
        }
      ]
    },
    {
      "metadata": {
        "trusted": true
      },
      "cell_type": "code",
      "source": "np.expm1?",
      "execution_count": 100,
      "outputs": []
    },
    {
      "metadata": {
        "trusted": true
      },
      "cell_type": "code",
      "source": "# functions that give you better percision for smaller numbers (unlike Python)\n# in any case, there is a finite number of digits the computer can hold\na = [0, 0.001, 0.01, 0.1]\n# These NumPy functions provide better precision for small values\nprint(\"exp(a) - 1 =\", np.expm1(a))\nprint(\"log(1 + a) =\", np.log1p(a))",
      "execution_count": 101,
      "outputs": [
        {
          "output_type": "stream",
          "text": "exp(a) - 1 = [0.         0.0010005  0.01005017 0.10517092]\nlog(1 + a) = [0.         0.0009995  0.00995033 0.09531018]\n",
          "name": "stdout"
        }
      ]
    },
    {
      "metadata": {},
      "cell_type": "markdown",
      "source": "### Specialized Functions"
    },
    {
      "metadata": {
        "trusted": true
      },
      "cell_type": "code",
      "source": "# SciPy is a Scientific Computing package\nfrom scipy import special",
      "execution_count": 102,
      "outputs": []
    },
    {
      "metadata": {
        "trusted": true
      },
      "cell_type": "code",
      "source": "# Gamma functions (generalized factorials) and related functions\na = [1, 5, 10]\nprint(\"gamma(a)     =\", special.gamma(a)) # defines the factorial rules for floats (almost like 3.5!)\nprint(\"ln|gamma(a)| =\", special.gammaln(a))\nprint(\"beta(a, 2)   =\", special.beta(a, 2)) # $B(x, y)=\\frac{\\Gamma(x)\\Gamma(y)}{\\Gamma(x + y)}$",
      "execution_count": 104,
      "outputs": [
        {
          "output_type": "stream",
          "text": "gamma(a)     = [1.0000e+00 2.4000e+01 3.6288e+05]\nln|gamma(a)| = [ 0.          3.17805383 12.80182748]\nbeta(a, 2)   = [0.5        0.03333333 0.00909091]\n",
          "name": "stdout"
        }
      ]
    },
    {
      "metadata": {},
      "cell_type": "markdown",
      "source": "> **Takeaway:** Universal functions in NumPy provide you with computational functions that are faster than regular Python functions, particularly when working on large datasets that are common in data science. This speed is important because it can make you more efficient as a data scientist and it makes a broader range of inquiries into your data tractable in terms of time and computational resources."
    },
    {
      "metadata": {},
      "cell_type": "markdown",
      "source": "## Aggregations\n\n> **Learning goal:** By the end of this subsection, you should be comfortable aggregating data in NumPy."
    },
    {
      "metadata": {},
      "cell_type": "markdown",
      "source": "### Summing the values of an array"
    },
    {
      "metadata": {
        "trusted": true
      },
      "cell_type": "code",
      "source": "myList = np.random.random(100) # sum up a random list of numbers between 0 and 100\nnp.sum(myList)",
      "execution_count": 107,
      "outputs": [
        {
          "output_type": "execute_result",
          "execution_count": 107,
          "data": {
            "text/plain": "49.93710045915268"
          },
          "metadata": {}
        }
      ]
    },
    {
      "metadata": {},
      "cell_type": "markdown",
      "source": "### NumPy vs. Python Functions"
    },
    {
      "metadata": {
        "trusted": true
      },
      "cell_type": "code",
      "source": "large_array = np.random.rand(1000000)\n%timeit sum(large_array) # Python took 1.13 seconds, which runs python code to a C interperter\n%timeit np.sum(large_array) # NumPy took only about 3 miliseconds - much faster, because NumPy runs a compiled C program.",
      "execution_count": 111,
      "outputs": [
        {
          "output_type": "stream",
          "text": "1.06 s ± 42.4 ms per loop (mean ± std. dev. of 7 runs, 1 loop each)\n2.91 ms ± 141 µs per loop (mean ± std. dev. of 7 runs, 100 loops each)\n",
          "name": "stdout"
        }
      ]
    },
    {
      "metadata": {},
      "cell_type": "markdown",
      "source": "### Minimum and maximum"
    },
    {
      "metadata": {
        "trusted": true
      },
      "cell_type": "code",
      "source": "np.min(large_array), np.max(large_array) # as opposed to Python's built-in min/max",
      "execution_count": 114,
      "outputs": [
        {
          "output_type": "execute_result",
          "execution_count": 114,
          "data": {
            "text/plain": "(7.166647984280239e-06, 0.9999986906665383)"
          },
          "metadata": {}
        }
      ]
    },
    {
      "metadata": {
        "trusted": true
      },
      "cell_type": "code",
      "source": "large_array.min(), large_array.max(), large_array.sum()",
      "execution_count": 115,
      "outputs": [
        {
          "output_type": "execute_result",
          "execution_count": 115,
          "data": {
            "text/plain": "(7.166647984280239e-06, 0.9999986906665383, 500014.82381307136)"
          },
          "metadata": {}
        }
      ]
    },
    {
      "metadata": {},
      "cell_type": "markdown",
      "source": "## Computation on arrays with broadcasting\n\n> **Learning goal:** By the end of this subsection, you should have a basic understanding of how broadcasting works in NumPy (and why NumPy uses it)."
    },
    {
      "metadata": {
        "trusted": true
      },
      "cell_type": "code",
      "source": "# add arrays\nfirst_array = np.array([3, 6, 8, 1])\nsecond_array = np.array([4, 5, 7, 2])\nfirst_array + second_array",
      "execution_count": 116,
      "outputs": [
        {
          "output_type": "execute_result",
          "execution_count": 116,
          "data": {
            "text/plain": "array([ 7, 11, 15,  3])"
          },
          "metadata": {}
        }
      ]
    },
    {
      "metadata": {
        "trusted": true
      },
      "cell_type": "code",
      "source": "# add 5 to each element in the array\nfirst_array + 5",
      "execution_count": 119,
      "outputs": [
        {
          "output_type": "execute_result",
          "execution_count": 119,
          "data": {
            "text/plain": "array([ 8, 11, 13,  6])"
          },
          "metadata": {}
        }
      ]
    },
    {
      "metadata": {
        "trusted": true
      },
      "cell_type": "code",
      "source": "one_dim_array = np.ones((1))\none_dim_array",
      "execution_count": 120,
      "outputs": [
        {
          "output_type": "execute_result",
          "execution_count": 120,
          "data": {
            "text/plain": "array([1.])"
          },
          "metadata": {}
        }
      ]
    },
    {
      "metadata": {
        "trusted": true
      },
      "cell_type": "code",
      "source": "two_dim_array = np.ones((2, 2))\ntwo_dim_array",
      "execution_count": 121,
      "outputs": [
        {
          "output_type": "execute_result",
          "execution_count": 121,
          "data": {
            "text/plain": "array([[1., 1.],\n       [1., 1.]])"
          },
          "metadata": {}
        }
      ]
    },
    {
      "metadata": {
        "trusted": true
      },
      "cell_type": "code",
      "source": "one_dim_array + two_dim_array",
      "execution_count": 122,
      "outputs": [
        {
          "output_type": "execute_result",
          "execution_count": 122,
          "data": {
            "text/plain": "array([[2., 2.],\n       [2., 2.]])"
          },
          "metadata": {}
        }
      ]
    },
    {
      "metadata": {},
      "cell_type": "markdown",
      "source": "**Think, Pair, Share**"
    },
    {
      "metadata": {
        "trusted": true
      },
      "cell_type": "code",
      "source": "horizontal_array = np.arange(3)\nvertical_array = np.arange(3)[:, np.newaxis]\n\nprint(horizontal_array)\nprint(vertical_array)",
      "execution_count": 123,
      "outputs": [
        {
          "output_type": "stream",
          "text": "[0 1 2]\n[[0]\n [1]\n [2]]\n",
          "name": "stdout"
        }
      ]
    },
    {
      "metadata": {
        "trusted": true
      },
      "cell_type": "code",
      "source": "horizontal_array + vertical_array",
      "execution_count": 124,
      "outputs": [
        {
          "output_type": "execute_result",
          "execution_count": 124,
          "data": {
            "text/plain": "array([[0, 1, 2],\n       [1, 2, 3],\n       [2, 3, 4]])"
          },
          "metadata": {}
        }
      ]
    },
    {
      "metadata": {},
      "cell_type": "markdown",
      "source": "## Comparisons, masks, and Boolean logic in NumPy\n\n> **Learning goal:** By the end of this subsection, you should be comfortable with and understand how to use Boolean masking in NumPy in order to answer basic questions about your data."
    },
    {
      "metadata": {},
      "cell_type": "markdown",
      "source": "### Example: Counting Rainy Days\n\nLet's see masking in practice by examining the monthly rainfall statistics for Seattle. The data is in a CSV file from data.gov. To load the data, we will use pandas, which we will formally introduce in Section 4."
    },
    {
      "metadata": {
        "trusted": true
      },
      "cell_type": "code",
      "source": "!cat Data/Observed_Monthly_Rain_Gauge_Accumulations_-_Oct_2002_to_May_2017.csv\n# first column is the date\n# the rest are rain gauge columns",
      "execution_count": 126,
      "outputs": [
        {
          "output_type": "stream",
          "text": "Date,RG01,RG02,RG03,RG04,RG05,RG07,RG08,RG09,RG10_30,RG11,RG12,RG14,RG15,RG16,RG17,RG18,RG20_25\r\n11/30/2002,2.43,3.36,2.88,2.48,0.78,2.49,2.57,2.93,3.25,2.38,2.59,2.46,3.06,2.69,3.59,3.17,3.15\r\n12/31/2002,4.31,1.4,5.46,4.8,1.99,5.06,2.48,2.35,6.48,4.95,5.71,3.57,5.77,3.28,5.77,6.02,5.6\r\n01/31/2003,6.55,7.35,5.84,6.48,7.57,4.47,7.39,7.31,5.42,6.58,7.58,5.72,7.47,8.32,9.69,7.66,7.17\r\n02/28/2003,1.61,1.81,1.7,1.49,1.11,1.5,1.56,1.73,1.18,1.37,1.47,1.33,1.19,1.21,1.52,1.09,1.34\r\n03/31/2003,5.01,5.88,3.12,5.01,5.09,5.15,5.14,5.01,5.68,4.01,5.16,4.57,5.5,5.61,5.62,5.49,4.89\r\n04/30/2003,2.27,3.15,2.69,2.56,2.2,2.49,2.5,1.45,1.78,2.34,2.44,2.14,2.47,1.33,3.31,1.74,2.01\r\n05/31/2003,0.91,1.49,1.51,1.4,0.43,1.59,0.98,0.93,0.83,1.45,1.63,0.81,0.23,0.58,0.77,0.85,1.47\r\n06/30/2003,0.49,0.89,0.4,0.34,0.57,0.94,0.75,0.79,0.33,0.82,0.87,0.72,0.27,0.52,0.66,0.59,0.87\r\n07/31/2003,0.12,0.18,0.16,0.51,0.17,0.89,0.21,0.06,0.14,0.2,0.21,0.15,0.14,0.21,0.17,0.01,0\r\n08/31/2003,0.33,0.46,0.29,0.26,0.37,1.33,0.57,0.22,0.68,0.3,0.57,0.47,0.18,0.3,0.49,0.25,0.24\r\n09/30/2003,0.97,0.2,0.39,0.91,0.66,1.92,0.63,0.99,0.4,0.73,0.63,0.79,0.35,1.3,1.14,1.22,0.54\r\n10/31/2003,6.32,7.75,6.33,5.23,6.59,6.72,6.99,7.04,7.39,6.64,6.99,6.52,3.66,7.47,8.41,7.47,7.14\r\n11/30/2003,2.54,4.51,5.09,5.15,5.76,6.47,5.93,5.63,4.71,5.3,5.93,4.8,3.43,6.08,7.45,6.08,5.71\r\n12/31/2003,3.19,3.9,3.04,2.69,3.14,4.68,4.58,4.58,4.13,3.72,4.58,2.93,3.31,4.98,4.47,4.32,3.63\r\n01/31/2004,4.23,5.88,4.79,5.88,4.81,5.43,5.93,5.93,5.04,6.67,6.77,5.22,4.96,4.96,5.86,5.31,5.83\r\n02/29/2004,2.19,2.75,2.41,2.75,2.65,2.08,2.56,2.56,2.59,2.45,2.45,2.23,2.76,2.79,3.17,2.53,2.49\r\n03/31/2004,1.72,1.95,1.85,1.95,1.68,1.72,1.7,1.7,2.21,1.93,1.93,2.13,1.97,1.97,2.1,2.5,2.03\r\n04/30/2004,0.55,0.76,0.64,0.76,0.38,0.55,0.55,0.55,0.38,0.7,0.7,0.53,0.38,0.38,0.38,0.38,0.47\r\n05/31/2004,2.54,2.21,2.46,2.21,1.94,2.31,2.59,2.59,1.46,2.86,2.86,2.1,2.58,1.87,1.74,2.84,2.68\r\n06/30/2004,0.36,0.73,0.72,0.73,0.57,0.36,0.86,0.86,0.57,0.63,0.63,0.57,0.54,0.57,0.57,0.57,0.63\r\n07/31/2004,0.24,0.32,0.3,0.32,0.3,0.24,0.35,0.35,0.3,0.35,0.35,0.3,0.3,0.3,0.3,0.3,0.3\r\n08/31/2004,2.3,2.42,3.2,2.2,2.89,3.03,3.03,3.03,2.93,3.03,3.03,2.89,2.75,2.93,2.93,2.9,3.2\r\n09/30/2004,1.37,2.11,1.91,1.83,2.24,1.93,1.93,1.93,2.24,1.57,1.57,2.24,2.24,2.24,2.24,2.24,1.35\r\n10/31/2004,2.12,2.62,2.07,2.36,2,2.53,2.78,2.81,2.05,1.85,2.59,1.44,1.77,2.12,2.38,2.08,1.7\r\n11/30/2004,2.16,3.15,2.77,2.78,1.05,2.49,2.56,3.15,2.73,2.28,2.56,2.04,2.48,2.58,2.76,3.01,2.77\r\n12/31/2004,4.5,4.83,4.79,4.76,4.2,5.02,4.77,5.15,4.16,4.49,4.77,4.2,4.79,4.75,4.79,4.83,4.72\r\n01/31/2005,2.33,2.95,1.47,2.8,3.82,2.86,3.33,3.39,4.24,3.03,3.3,3.46,3.46,3.66,3.91,2.11,3.11\r\n02/28/2005,0.8,1.03,0.92,0.95,1.1,0.93,0.88,0.97,1.17,0.77,0.87,0.51,0.51,1.12,1.33,1.08,0.9\r\n03/31/2005,2.59,5.74,2.94,2.39,3.32,2.79,2.84,3.14,3.86,2.62,2.48,3.36,3.36,3,3.51,3.03,2.81\r\n04/30/2005,2.68,2.42,2.73,2.56,4.03,2.61,3.03,3.06,3.72,2.34,3.24,0.21,0.21,3.72,4.14,3.77,2.76\r\n05/31/2005,2.23,2.69,2.74,2.45,3.4,2.44,2.88,2.69,3.06,2.56,1.98,3.36,3.36,2.47,3.37,3.09,2.98\r\n06/30/2005,2,2.31,1.6,1.79,2.01,2,1.45,1.85,3.57,1.31,1.44,1.4,1.4,2.53,2.18,2.4,1.49\r\n07/31/2005,0.66,0.89,0.75,0.7,0.75,0.56,0.32,0.84,1,0.6,0.53,0.42,0.42,0.81,1.04,0.95,0.94\r\n08/31/2005,0.27,0.29,0.06,0.27,0.57,0.18,0.53,0.58,0.44,0.13,0.56,0.07,0.07,0.39,0.72,0.49,0.18\r\n09/30/2005,0.99,0.92,1.41,1.21,0.33,1.06,0.84,0.82,1.02,0.96,1.22,0.71,0.71,0.85,0.92,1.25,1.55\r\n10/31/2005,2.44,2.41,2.77,2.42,2.15,2.38,2.37,2.34,2.78,2.02,2.72,1.39,1.39,0.66,2.72,2.41,2.05\r\n11/30/2005,4.38,4.86,5.01,4.29,4.13,4.45,4.62,4.57,6.13,4.45,5.6,3.18,3.18,3.9,5.66,5.15,4.81\r\n12/31/2005,6.55,7.1,6.44,6.31,6.02,6.94,7.34,7.4,7.06,6.16,8.09,6.36,6.36,6.51,7.6,6.55,6.56\r\n01/31/2006,9.02,9.71,9.52,8.84,9.3,9.07,9.38,9.37,12.61,8.67,10.11,4.65,4.65,10.48,11.66,10.66,9.51\r\n02/28/2006,2.95,3.32,2.81,3.21,2.86,2.82,2.63,2.69,3.3,2.54,2.66,2.18,2.18,3.09,3.41,3.01,2.69\r\n03/31/2006,1.04,1.24,1.11,1.18,1.39,1.11,1.22,1.47,1.67,1.38,1.2,0.91,0.91,1.47,1.57,1.47,1.29\r\n04/30/2006,1.96,2.02,1.96,2.14,1.9,1.89,1.98,2,2.72,1.73,1.78,1.8,1.8,2.23,2.66,2.25,1.76\r\n05/31/2006,1.37,2.3,1.47,1.38,0.99,1.09,0.98,1.01,1.5,0.92,0.94,0.84,0.84,1.33,1.35,1.25,1.42\r\n06/30/2006,1.07,1.93,1.7,1.29,1.56,1.23,1.26,1.19,1.59,1.3,1.11,1.46,1.46,2.05,2.01,1.83,1.55\r\n07/31/2006,0.12,0.02,0.07,0.04,0.1,0.12,0.16,0.08,0.05,0.08,0.06,0.05,0.05,0.03,0.03,0.1,0.06\r\n08/31/2006,0.15,0.16,0.07,0.15,0.04,0.11,0.05,0.06,0.05,0.18,0.21,0.03,0.03,0.03,0.03,0.07,0.24\r\n09/30/2006,1.45,1.78,1.31,1.38,1.56,1.06,1.06,0.94,1.97,1.2,0.97,0.88,0.88,1.54,1.64,1.67,1.4\r\n10/31/2006,1.87,1.95,1.31,0.93,0.65,1.45,1.51,1.48,1.56,1.22,1.31,0.52,0.52,1.18,1.15,1.36,1.46\r\n11/30/2006,10.38,11.79,12.18,12.26,11.78,10.83,10.61,10.63,14.68,11.02,10.94,9.4,9.4,12.98,13.19,13.4,11.64\r\n12/31/2006,6.73,7.04,7.42,7.29,8.56,6.91,7.26,6.94,7.83,7.26,7.02,6.73,6.73,7.3,8.52,7.37,8.16\r\n01/31/2007,2.63,2.91,2.94,2.53,3.93,3.03,3.59,2.8,4.28,3.46,3.23,2.81,2.8,4.01,5.06,4.48,3.3\r\n02/28/2007,1.6,1.75,1.92,1.77,1.26,1.4,1.63,1.87,3.16,1.48,1.57,1.54,1.54,2.22,2.12,2.75,1.91\r\n03/31/2007,2.87,2.65,2.86,2.79,2,2.62,2.8,2.64,4.66,2.17,2.99,2.34,2.09,3.48,3.49,4.28,3.11\r\n04/30/2007,0.16,0.02,0.59,1.38,0,0.95,0,0,0.55,0,0.77,0.79,0.05,0,0,0.96,1.62\r\n05/31/2007,0,0,0,0.14,0.01,0.1,0.01,0,0.13,0,0.1,0.07,0,0.01,0.01,0.12,0.09\r\n06/30/2007,0.6,0.51,0,0.15,0.63,0.5,0.37,0.47,1.15,0.39,0.34,0.46,0.53,0.63,0.63,0.64,0.15\r\n07/31/2007,1.5,1.39,0.75,1.61,1.42,1.45,1.23,1.42,1.43,1.22,1.29,1.28,1.34,1.42,1.42,1.42,1.38\r\n08/31/2007,1.05,1.06,0.88,1.11,1.16,1.04,0.75,0.88,1.14,0.66,0.78,0.97,0.94,1.16,1.16,1.23,0.88\r\n09/30/2007,2.14,1.88,2.08,2.34,2.31,1.99,1.88,2.13,2.66,1.96,1.97,2.17,2.27,2.48,2.48,2.45,2.19\r\n10/31/2007,3.28,2.65,2.69,2.95,2.1,3,2.5,2.79,3.55,2.25,3.04,2.71,2.6,2.7,2.7,2.69,2.45\r\n11/30/2007,2.96,2.72,2.76,2.98,2.94,2.87,3.16,2.95,3.57,2.81,3.37,3.45,2.95,3.54,3.54,3.46,2.98\r\n12/31/2007,10.53,9.32,9.83,10.03,9.59,9.96,9.31,9.99,9.37,9.46,10.49,10.91,9.32,10.68,10.68,9.5,9.47\r\n01/31/2008,4.37,3.95,4.42,4.23,3.45,4.14,4.2,4.61,3.53,3.88,4.16,3.82,3.09,3.09,3.98,3.53,4.01\r\n02/29/2008,1.46,1.4,1.39,1.51,0.94,1.24,1.2,1.37,1.39,0.93,1.01,1.04,1.11,1.17,1.37,1.39,1.43\r\n03/31/2008,3.53,3.57,4.04,3.62,3.08,3.77,3.77,3.88,4.09,3.64,3.66,3.66,3.67,4.27,4.37,4.09,4.03\r\n04/30/2008,2.85,2.16,2.25,2.76,1.65,2.53,2.15,2.25,1.71,1.87,1.81,1.82,1.74,1.59,2.23,1.71,1.97\r\n05/31/2008,0.85,0.8,0.68,0.76,0.63,0.71,0.53,0.64,1.33,0.6,0.5,0.7,0.78,1.13,1.58,1.33,0.74\r\n06/30/2008,2.12,1.81,1.68,2.21,1.57,2.1,1.78,1.95,1.64,1.85,2.09,1.43,1.29,1.87,2.01,1.64,2.07\r\n07/31/2008,0.28,0.37,0.37,0.37,0.2,0.4,0.46,0.25,0.51,0.19,0.39,0.32,0.19,0.32,0.43,0.51,0.32\r\n08/31/2008,3.16,3.04,3.14,3.4,2.65,3.17,2.86,3.15,3.49,2.73,3.18,2.97,2.74,3.01,3.43,3.49,3.5\r\n09/30/2008,0.88,0.78,0.73,0.76,0.51,0.81,0.61,0.75,0.74,0.57,0.64,0.5,0.5,0.6,0.59,0.74,0.74\r\n10/31/2008,2.15,2.43,2.27,2.3,2.08,1.99,1.82,2.18,2.18,1.87,2.01,2.27,2.01,1.98,2.33,2.18,2.43\r\n11/30/2008,4.81,4.65,4.65,5.02,5.18,4.81,5.08,5.74,6.08,4.73,5.3,5.45,4.98,5.94,6.17,6.08,5.15\r\n12/31/2008,4.76,4.11,4,4.77,3.96,3.85,3.68,4.03,3.94,3.14,3.63,3.46,3.04,4.06,4.31,3.94,3.89\r\n01/31/2009,3.43,3.33,3.72,3.76,4.53,3.3,3.73,3.77,3.92,3.53,3.83,4.37,3.24,4.27,5.15,4.44,3.66\r\n02/28/2009,2.04,2.07,1.82,2.11,1.4,1.8,1.86,2.1,1.75,1.61,1.78,1.59,1.42,1.88,1.63,1.86,1.69\r\n03/31/2009,4.26,3.8,3.75,4.45,3.14,4.19,3.51,4.04,4.25,3.11,3.44,3.32,2.7,3.83,3.56,3.53,3.23\r\n04/30/2009,2.75,2.86,2.97,3.08,2.96,2.73,2.79,3.34,3.67,2.43,2.67,2.97,2.41,2.86,2.99,3.18,2.87\r\n05/31/2009,3.9,3.76,4.29,3.7,3.82,4.12,4.18,4.27,4.6,4.05,4.81,4.41,3.86,4.36,4.32,4.4,4.03\r\n06/30/2009,0.31,0.2,0.11,0.24,0.24,0.27,0.17,0.16,0.56,0.1,0.14,0.16,0.21,0.22,0.36,0.23,0.21\r\n07/31/2009,0.22,0.2,0.1,0.15,0.11,0.12,0.09,0.11,0.06,0.09,0.2,0.08,0.1,0.05,0.1,0.06,0.08\r\n08/31/2009,0.75,0.77,0.76,0.83,0.96,0.77,0.82,0.89,1.08,0.78,0.95,1.09,0.88,0.99,1.07,1.08,0.86\r\n09/30/2009,2.5,2.46,2.05,2.44,1.87,2.4,2.31,2.3,2.49,2.47,2.2,2.12,2.05,2.29,2.25,2.42,2.54\r\n10/31/2009,5.71,5.3,4.98,6.06,4.92,5.25,5.29,5.88,6.06,5.01,5.4,4.99,5.13,5.88,5.81,6.21,5.06\r\n11/30/2009,10.92,8.41,8.72,9.56,9.13,10.84,9.51,9.94,10.07,7.93,9.17,9.86,9.34,10.1,9.74,10.92,8.75\r\n12/31/2009,3.11,2.19,2.23,2.59,2.77,2.95,2.62,2.6,2.8,2.27,2.5,2.77,2.34,2.83,2.99,3.07,2.34\r\n01/31/2010,7.82,6.41,6.69,7.21,7.12,7.37,7.19,7.62,6.81,6.58,7.4,8.13,6.7,6.82,6.97,7.53,6.61\r\n02/28/2010,4.05,2.83,3.2,3.17,3.64,3.9,3.74,3.9,3.6,3.54,3.91,4.36,3.62,3.66,3.52,3.7,3.56\r\n03/31/2010,3.65,3.1,2.92,3.07,3.03,3.34,3.3,3.34,4.43,2.78,3.39,3.25,3.02,3.57,3.26,4.49,2.99\r\n04/30/2010,3.35,2.75,2.96,3.02,3.65,3.25,3.07,3.53,4.05,3.16,2.84,3.39,3.31,3.78,3.75,3.86,2.96\r\n05/31/2010,3.19,3.53,3.03,3.66,2.97,3.32,3.47,3.6,3.46,3.05,3.93,4.24,2.74,3.1,3.16,3.62,2.73\r\n06/30/2010,2.34,2.26,2.56,2.42,2.09,2.5,2.19,2.71,2.66,1.87,1.96,1.88,1.9,2.18,2.24,2.43,2.02\r\n07/31/2010,0.17,0.12,0.18,0.14,0.18,0.12,0.18,0.22,0.34,0.22,0.21,0.43,0.25,0.21,0.34,0.46,0.34\r\n08/31/2010,0.82,0.73,0.82,0.73,0.64,0.76,0.77,0.96,0.59,0.67,0.69,0.59,0.55,0.6,0.64,0.65,0.72\r\n09/30/2010,3.49,3.66,3.71,4.02,4.18,3.44,3.43,4.12,3.94,3.98,4.22,4.39,3.78,4.1,4.1,4.04,3.89\r\n10/31/2010,3.57,3.7,3.92,3.76,4.71,3.52,3.88,4.29,5.71,3.95,4.22,4.72,4.74,4.94,4.73,4.86,4.35\r\n11/30/2010,4.64,4.45,4.46,4.97,4.63,4.69,4.65,5,5.17,4.46,4.79,5.15,4.55,5.21,4.88,5.06,4.45\r\n12/31/2010,8.36,7.55,8.39,8.02,8.78,8.93,8.75,9.46,9.71,8.36,8.87,9.71,8.89,10.25,9.18,9.27,8.16\r\n01/31/2011,4.72,5.08,5,4.9,4.5,4.3,4.84,5.46,6.13,4.77,4.81,5.38,4.73,5.38,4.65,5.82,4.97\r\n02/28/2011,3.83,3.11,3.44,3.33,2.95,3.88,3.59,3.89,3.59,3.18,3.4,3.41,2.94,3.45,2.99,3.58,3.32\r\n03/31/2011,7.66,5.78,6.19,6.63,6.26,8.08,7.3,7.58,7.31,5.97,7.23,6.9,5.84,6.78,6.33,6.72,6.06\r\n04/30/2011,3.74,3.1,3.22,3.24,3.41,3.32,3.14,3.42,4.63,3.06,2.95,3.95,3.79,4.27,4,4.09,3.77\r\n05/31/2011,3.02,2.78,2.87,3.01,3.16,3.2,3.08,3.3,3.14,3.31,3.14,3.35,3.23,3.1,3.06,2.93,2.95\r\n06/30/2011,1.4,1.48,1.5,1.24,0.79,1.23,1.19,1.33,1.55,1.28,1.15,1.63,1.28,1.32,1.31,1.38,1.65\r\n07/31/2011,0.75,0.55,0.54,0.65,0.82,1.06,0.86,0.74,0.8,0.85,0.9,0.8,0.72,0.86,0.86,0.82,0.74\r\n08/31/2011,0.07,0.09,0.06,0.09,0.06,0.05,0.06,0.11,0.09,0.02,0.05,0.03,0.04,0.07,0.07,0.08,0.06\r\n09/30/2011,1,0.85,0.94,1.02,1.34,1.04,1.03,1.13,1.21,0.99,1.11,1.3,1.2,1.17,1.43,1.15,1.15\r\n10/31/2011,3.13,2.94,3.05,3.27,2.54,3.23,2.93,3.61,3.29,2.6,2.78,2.66,2.23,2.49,2.94,3.24,2.96\r\n11/30/2011,6.13,5.66,6.12,6.68,5.14,6.37,5.61,6.88,6.24,5.27,5.87,6.18,5.33,5.86,5.82,5.83,5.45\r\n12/31/2011,1.67,1.52,1.54,1.69,2.07,1.68,1.55,1.83,2.1,1.62,1.75,2.05,1.72,1.92,2.19,1.98,1.69\r\n01/31/2012,4.97,4.69,5.3,5.26,5.72,4.92,4.9,5.6,6.66,4.59,4.89,5.79,4.9,5.89,6.05,5.95,5.21\r\n02/29/2012,3.62,2.78,2.85,3,2.87,2.97,2.65,3.23,3.69,2.4,2.62,2.67,2.72,3.53,3.51,3.34,2.55\r\n03/31/2012,6.65,5.28,6.5,5.93,6.08,6.35,5.43,6.72,8.22,6.19,6.09,6.75,6.37,7.75,7.36,7.49,6.36\r\n04/30/2012,2.33,2.16,2.24,2.2,2.42,2.19,1.77,2.42,2.8,2.09,2.02,2.37,2.35,2.32,2.67,2.52,2.39\r\n05/31/2012,1.87,2.68,2.34,2.1,2.11,1.84,1.79,2.17,2.65,2.51,2.13,2.86,2.34,2.56,2.37,2.55,2.33\r\n06/30/2012,3.5,3.22,3.29,3.42,2.21,3.15,2.82,3.66,3.11,2.58,3.05,2.85,2.83,2.82,2.95,3.16,3.28\r\n07/31/2012,1.73,1.56,1.27,1.76,1.08,2.65,1.76,1.71,1.37,1.22,1.97,1.1,1.04,1.05,1.98,1.34,1.42\r\n08/31/2012,0,0,0,0,0,0,0,0,0,0,0,0,0,0,0,0,0\r\n09/30/2012,0.38,0.25,0.2,0.27,0.03,0.38,0.28,0.26,0.08,0.06,0.16,0.07,0.05,0.03,0.05,0.06,0.11\r\n10/31/2012,5.82,5.3,5.85,5.85,6.32,6.18,5.78,6.89,6.54,5.5,5.99,6.37,5.94,6.34,6.73,6.53,5.53\r\n11/30/2012,8.79,7.76,8.58,7.96,7.71,9.18,8.67,9.32,8.14,8.02,8.89,8.88,7.74,7.98,7.95,8.19,7.93\r\n12/31/2012,9.88,7.51,8.94,8.53,7.9,9.99,9.04,10.01,9.3,8.36,9.04,9.22,8.35,9.48,9.05,9.07,8.37\r\n01/31/2013,4.8,4.74,4.21,4.54,2.83,4.33,3.77,4.5,3.93,3.32,3.64,4.03,3.32,3.6,3.33,3.92,4.03\r\n02/28/2013,1.89,1.56,1.67,1.67,1.49,1.82,1.49,1.77,1.78,1.33,1.45,1.68,1.6,1.73,1.55,1.78,1.47\r\n03/31/2013,2.82,2.7,2.77,2.79,2.46,2.8,2.53,2.76,2.75,2.52,2.6,3,2.79,2.96,2.89,2.69,2.53\r\n04/30/2013,5.28,4.3,4.85,4.86,3.72,4.98,4.68,5.08,5.14,4.18,4.95,4.2,3.96,4.33,4.31,4.67,4.38\r\n05/31/2013,1.41,1.15,1.3,1.54,1.68,1.57,1.93,1.85,1.95,1.47,1.93,1.84,1.5,1.57,1.72,1.79,1.54\r\n06/30/2013,1.8,1.91,1.56,2.23,1.2,2.1,1.55,1.92,1.74,1.44,1.55,1.67,1.45,1.2,1.34,1.46,1.71\r\n07/31/2013,0.05,0.03,0.09,0.11,0,0,0,0.03,0.09,0,0,0,0,0.02,0.01,0.14,0.15\r\n08/31/2013,0.96,0.94,1.02,0.99,0.92,1.08,1.15,1,1.24,1.2,1.15,0.82,0.98,1.05,1.26,1.15,1.08\r\n09/30/2013,5.06,5.08,4.8,4.91,5.33,4.88,5.63,5.14,5.91,4.73,5.63,5.37,5.67,5.25,4.97,5.61,5.5\r\n10/31/2013,0.98,1.19,0.9,0.98,1.52,0.98,1.14,1.14,1.76,0.76,1.31,1.52,1.1,1.44,1.81,1.72,1\r\n11/30/2013,2.8,3.03,2.58,3.04,2.83,2.79,2.55,2.79,3.54,2.31,2.75,2.85,2.85,2.99,3.1,3.25,2.9\r\n12/31/2013,1.37,1.51,1.25,1.52,1.01,1.11,0.95,1.24,1.57,0.95,1.01,1.35,1.11,1.21,1.4,1.37,1.47\r\n01/31/2014,4.24,4.07,4.05,4.07,3.4,4.39,3.89,4.54,3.93,3.99,4.6,4.5,3.4,3.68,3.72,4.06,4.34\r\n02/28/2014,5.59,5.45,5.42,5.12,5.55,5.62,4.88,5.55,6.27,5.33,5.85,6.03,5.55,6.28,5.84,6.21,5.87\r\n03/31/2014,9.06,8.76,8.54,8.69,7.93,8.8,8.3,9.73,9.24,8.04,8.87,8.81,7.93,8.17,8.26,8.84,8.51\r\n04/30/2014,3.23,3.07,3.07,3.37,2.65,3.22,2.6,3.37,4.47,2.7,2.78,2.84,2.84,3.43,2.84,3.53,3.11\r\n05/31/2014,2.26,2.28,2.2,2.45,2.4,2.25,2.24,2.6,3.14,2.38,2.71,2.76,2.76,2.88,2.94,2.9,2.62\r\n06/30/2014,1.22,1.34,0.9,1.16,0.54,1.11,0.98,1.12,0.79,0.75,0.95,0.56,0.56,0.56,0.65,0.69,1.08\r\n07/31/2014,1.28,1.54,0.98,1.33,0.57,1.02,0.81,0.99,1.09,0.75,0.96,0.69,0.69,0.72,0.76,0.99,0.67\r\n08/31/2014,1.62,1.67,1.29,1.64,1.21,1.46,1.13,1.29,1.48,1.23,1.25,1.15,1.15,1.17,1.35,1.53,1.35\r\n09/30/2014,2.73,3.76,2.69,2.64,1.96,2.67,2.35,2.69,2.61,3.35,2.52,2.83,2.83,2.27,2.39,2.68,3.41\r\n10/31/2014,6.76,8.39,6.02,6.89,6.58,6.54,5.93,6.46,7.21,6.41,7.07,6.87,6.58,5.83,5.85,7.25,6.71\r\n11/30/2014,5.08,6.14,4.7,4.56,4.46,4.86,4.38,4.95,4.44,4.63,4.8,5.25,4.41,3.72,3.43,4.41,5.13\r\n12/31/2014,6.09,5.37,5.29,5.5,5.42,6.26,5.39,6.08,5.24,5.41,5.93,5.86,5.43,4.6,4.38,5.29,5.92\r\n01/31/2015,2.54,2.65,2.72,2.38,2.47,2.61,2.27,2.66,3.2,2.73,2.7,3.04,2.35,2.36,1.92,2.67,3.01\r\n02/28/2015,4.6,4.21,4.1,4.18,4.37,4.52,3.91,4.46,5.1,4.18,4.32,4.61,4.5,4.68,4.68,5.1,5.1\r\n03/31/2015,4.25,4.12,4.3,4.23,4.56,4.99,3.8,4.33,4.55,4.39,4.42,4.83,4.57,4.38,4.39,4.52,4.79\r\n04/30/2015,1.59,1.64,1.89,1.66,1.65,1.71,1.26,1.62,2.11,1.64,1.58,1.62,1.84,1.91,1.7,2.3,2.42\r\n05/31/2015,0.5,0.87,0.65,0.73,0.51,0.54,0.77,0.79,0.57,0.52,0.66,0.48,0.49,0.31,0.4,0.49,0.57\r\n06/30/2015,0.28,0.2,0.12,0.13,0.15,0.33,0.15,0.21,0.17,0.1,0.13,0.14,0.09,0.12,0.12,0.23,0.17\r\n07/31/2015,0.35,0.94,0.25,0.31,0.13,0.24,0.18,0.27,0.14,0.15,0.17,0.19,0.18,0.16,0.07,0.29,0.22\r\n08/31/2015,3.02,2.63,3.42,2.61,3.7,2.58,2.57,2.96,2.97,2.83,2.96,3.03,2.67,2.67,2.58,2.97,2.76\r\n09/30/2015,1.35,1.04,2.2,1.42,0.79,1.13,1.77,2.03,1.3,1.83,1.73,1.63,1.67,1.01,0.87,1.3,1.78\r\n10/31/2015,3.51,3.53,3.38,3.45,3.38,3.34,2.93,3.63,3.7,3.25,3.3,3.76,3.29,3.7,3.48,4.02,3.88\r\n11/30/2015,6.92,6.66,6.48,6.76,6.76,6.54,6.44,7.37,7.74,6.36,7.08,7.35,6.63,7.74,6.65,8.04,6.95\r\n12/31/2015,10.49,8.94,10.14,10.05,10.11,10.58,9.93,11.21,10.88,9.94,11.4,11.83,10.09,10.88,9.81,10.45,10.66\r\n01/31/2016,8.22,6.89,7.25,7.47,7.39,8.43,7.6,8.37,7.07,7.24,8.25,7.91,7.24,7.07,6.68,7.11,7.85\r\n02/29/2016,4.02,3.78,4.12,3.67,4.02,4.07,3.63,4.32,5.31,4.28,4.37,4.72,4.57,5.31,4.42,5.47,4.65\r\n03/31/2016,6.05,4.91,5.51,5.58,5.23,5.96,5.52,4.8,5.85,5.55,6.11,6.1,5.32,5.85,5.27,5.55,5.92\r\n04/30/2016,1.6,1.45,1.33,1.56,1.29,1.39,1.32,1.36,1.38,1.65,1.39,1.69,1.46,1.38,1.34,1.43,1.86\r\n05/31/2016,1.4,1.79,1.43,1.86,0.7,1.05,0.72,1.3,0.88,1.36,1.01,0.75,0.88,0.88,1.02,1.23,1.86\r\n06/30/2016,1.63,1.53,1.75,1.64,1.26,1.57,1.4,1.34,1.73,1.09,1.17,1.22,1.41,1.73,1.37,1.91,1.76\r\n07/31/2016,0.61,0.52,0.58,0.57,0.66,0.72,0.62,0.62,0.46,0.53,0.75,0.64,0.54,0.19,0.59,0.48,0.63\r\n08/31/2016,0.34,0.03,0.03,0.22,0.04,0.14,0.09,0.17,0.02,0.12,0.13,0.06,0.01,0,0.04,0.08,0.03\r\n09/30/2016,1.85,1.5,1.37,1.47,0.69,1.59,1.34,1.27,0.87,0.98,1.29,0.97,0.95,0,0.68,1.07,1.07\r\n10/31/2016,10.53,10.4,9.86,9.92,9.74,10.45,9.19,9.14,10.37,9.76,10.32,11.03,10.34,10.36,8.1,10.51,11.13\r\n11/30/2016,9.03,8.17,8.07,7.49,6.7,8.37,7.52,7.38,7.49,7.85,8.14,8.06,7.49,7.49,7.43,7.95,7.6\r\n12/31/2016,4.54,3.75,3.69,4.19,3.32,4.21,3.92,4.16,3.74,3.4,3.78,3.89,3.7,3.74,3.67,3.93,3.7\r\n01/31/2017,4.24,4.08,4.03,3.95,4.03,4.51,4,4.19,3.95,4.01,4.2,4.28,4.06,3.95,3.98,4.02,4.02\r\n02/28/2017,8.36,8.52,8.18,8.11,8.49,8.08,7.9,8.45,9.63,8.91,8.64,9.1,8.71,8.84,8.2,8.76,9.43\r\n03/31/2017,7.19,6.77,6.59,6.71,6.31,7,6.54,7.2,7.33,6.53,7.15,7.02,6.64,6.92,5.7,7.38,6.68\r\n04/30/2017,4.84,4.07,3.98,4.32,3.03,4.66,3.75,4.58,4.1,4.44,4.34,3.92,3.52,3.94,3.22,4.31,4.23\r\n05/31/2017,0,0,0.01,0.01,0,0,0,0.02,0.14,0.01,0,0.02,0.03,0.02,0.01,0.06,0\r\n",
          "name": "stdout"
        }
      ]
    },
    {
      "metadata": {
        "scrolled": true,
        "trusted": true
      },
      "cell_type": "code",
      "source": "import numpy as np\nimport pandas as pd # de-facto python package for data analysis\n\n# Use pandas to extract rainfall as a NumPy array\nrainfall_2003 = pd.read_csv('Data/Observed_Monthly_Rain_Gauge_Accumulations_-_Oct_2002_to_May_2017.csv')['RG01'][2:14].values\nrainfall_2003\n# .read_csv takes all the data from the base\n# we take the first column, after the header\n# we're taking rows 2 till 14 (the first is row zero, like the header)\n",
      "execution_count": 125,
      "outputs": [
        {
          "output_type": "execute_result",
          "execution_count": 125,
          "data": {
            "text/plain": "array([6.55, 1.61, 5.01, 2.27, 0.91, 0.49, 0.12, 0.33, 0.97, 6.32, 2.54,\n       3.19])"
          },
          "metadata": {}
        }
      ]
    },
    {
      "metadata": {
        "trusted": true
      },
      "cell_type": "code",
      "source": "# Just Google it! Python code to do x\n# Good artists borrow, bad artists steal\n\n\n# matplotlib library - you need to call a specific plot to see it (in the JUPYTER notebook, you see it right away)\n%matplotlib inline\nimport matplotlib.pyplot as plt",
      "execution_count": 127,
      "outputs": [
        {
          "output_type": "stream",
          "text": "/home/nbuser/anaconda3_420/lib/python3.5/site-packages/matplotlib/font_manager.py:281: UserWarning: Matplotlib is building the font cache using fc-list. This may take a moment.\n  'Matplotlib is building the font cache using fc-list. '\n",
          "name": "stderr"
        }
      ]
    },
    {
      "metadata": {
        "trusted": true
      },
      "cell_type": "code",
      "source": "plt.bar(np.arange(1, len(rainfall_2003) + 1), rainfall_2003); # we'll plot the rainfall 2002 data - transform it into a graph\n# there are 12 numbers in the list, because there are 12 months\n# the semicolon ; means \"discard any return value we don't need\" (erase it and see what happens)",
      "execution_count": 129,
      "outputs": [
        {
          "output_type": "display_data",
          "data": {
            "image/png": "[encoded data removed]",
            "text/plain": "<matplotlib.figure.Figure at 0x7fc53c386550>"
          },
          "metadata": {}
        }
      ]
    },
    {
      "metadata": {
        "trusted": true
      },
      "cell_type": "code",
      "source": "# for machine learning:\n# clean your data\n# plot your data\n# understand your data",
      "execution_count": null,
      "outputs": []
    },
    {
      "metadata": {
        "trusted": true
      },
      "cell_type": "code",
      "source": "\n\n### Boolean operators",
      "execution_count": 130,
      "outputs": []
    },
    {
      "metadata": {
        "trusted": true
      },
      "cell_type": "code",
      "source": "(rainfall_2003 > 0.5) # boolean vector",
      "execution_count": 133,
      "outputs": [
        {
          "output_type": "execute_result",
          "execution_count": 133,
          "data": {
            "text/plain": "array([ True,  True,  True,  True,  True, False, False, False,  True,\n        True,  True,  True])"
          },
          "metadata": {}
        }
      ]
    },
    {
      "metadata": {
        "trusted": true
      },
      "cell_type": "code",
      "source": "(rainfall_2003 < 1) # boolean vector",
      "execution_count": 134,
      "outputs": [
        {
          "output_type": "execute_result",
          "execution_count": 134,
          "data": {
            "text/plain": "array([False, False, False, False,  True,  True,  True,  True,  True,\n       False, False, False])"
          },
          "metadata": {}
        }
      ]
    },
    {
      "metadata": {
        "trusted": true
      },
      "cell_type": "code",
      "source": "np.sum((rainfall_2003 > 0.5) & (rainfall_2003 < 1))\n# how many months had a rainfall between 0.5 and 1 a year.\n# & is an intersection operator.\n# after making an intersection between the boolean vectors, we find out how many months answer both statements",
      "execution_count": 135,
      "outputs": [
        {
          "output_type": "execute_result",
          "execution_count": 135,
          "data": {
            "text/plain": "2"
          },
          "metadata": {}
        }
      ]
    },
    {
      "metadata": {
        "trusted": true
      },
      "cell_type": "code",
      "source": "np.sum(~((rainfall_2003 <= 0.5) | (rainfall_2003 >= 1)))\n# ~ is a *not* operator",
      "execution_count": 136,
      "outputs": [
        {
          "output_type": "execute_result",
          "execution_count": 136,
          "data": {
            "text/plain": "2"
          },
          "metadata": {}
        }
      ]
    },
    {
      "metadata": {
        "trusted": true
      },
      "cell_type": "code",
      "source": "# these might be useful for data scientists that work in an umbrella company\nprint(\"Number of months without rain:\", np.sum(rainfall_2003 == 0))\nprint(\"Number of months with rain:   \", np.sum(rainfall_2003 != 0))\nprint(\"Months with more than 1 inch: \", np.sum(rainfall_2003 > 1))\nprint(\"Rainy months with < 1 inch:   \", np.sum((rainfall_2003 > 0) &\n                                              (rainfall_2003 < 1)))",
      "execution_count": 140,
      "outputs": [
        {
          "output_type": "stream",
          "text": "Number of months without rain: 0\nNumber of months with rain:    12\nMonths with more than 1 inch:  7\nRainy months with < 1 inch:    5\n",
          "name": "stdout"
        }
      ]
    },
    {
      "metadata": {},
      "cell_type": "markdown",
      "source": "## Boolean arrays as masks"
    },
    {
      "metadata": {
        "trusted": true
      },
      "cell_type": "code",
      "source": "rand = np.random.RandomState(0)\ntwo_dim_array = rand.randint(10, size=(3, 4))\ntwo_dim_array",
      "execution_count": 143,
      "outputs": [
        {
          "output_type": "execute_result",
          "execution_count": 143,
          "data": {
            "text/plain": "array([[5, 0, 3, 3],\n       [7, 9, 3, 5],\n       [2, 4, 7, 6]])"
          },
          "metadata": {}
        }
      ]
    },
    {
      "metadata": {
        "trusted": true
      },
      "cell_type": "code",
      "source": "two_dim_array < 5",
      "execution_count": 144,
      "outputs": [
        {
          "output_type": "execute_result",
          "execution_count": 144,
          "data": {
            "text/plain": "array([[False,  True,  True,  True],\n       [False, False,  True, False],\n       [ True,  True, False, False]])"
          },
          "metadata": {}
        }
      ]
    },
    {
      "metadata": {},
      "cell_type": "markdown",
      "source": "### Masking"
    },
    {
      "metadata": {
        "trusted": true
      },
      "cell_type": "code",
      "source": "two_dim_array[two_dim_array < 5]",
      "execution_count": 145,
      "outputs": [
        {
          "output_type": "execute_result",
          "execution_count": 145,
          "data": {
            "text/plain": "array([0, 3, 3, 3, 2, 4])"
          },
          "metadata": {}
        }
      ]
    },
    {
      "metadata": {
        "trusted": true
      },
      "cell_type": "code",
      "source": "# Construct a mask of all rainy months\nrainy = (rainfall_2003 > 0) # find months that are greater than zero (the result will be boolean for each month)\n\n# Construct a mask of all summer months (June through September)\nmonths = np.arange(1, 13)\nsummer = (months > 5) & (months < 10)\n\nprint(\"Median precip in rainy months in 2003 (inches):   \", \n      np.median(rainfall_2003[rainy])) # NumPy's median function\nprint(\"Median precip in summer months in 2003 (inches):  \", \n      np.median(rainfall_2003[summer]))\nprint(\"Maximum precip in summer months in 2003 (inches): \", \n      np.max(rainfall_2003[summer]))\nprint(\"Median precip in non-summer rainy months (inches):\", \n      np.median(rainfall_2003[rainy & ~summer]))",
      "execution_count": null,
      "outputs": []
    },
    {
      "metadata": {},
      "cell_type": "markdown",
      "source": "> **Takeaway:** By combining Boolean operations, masking operations, and aggregates, you can quickly answer questions similar to those we posed about the Seattle rainfall data about any dataset. Operations like these will form the basis for the data exploration and preparation for analysis that will by our primary concerns in Sections 4 and 5."
    }
  ],
  "metadata": {
    "anaconda-cloud": {},
    "kernelspec": {
      "name": "python3",
      "display_name": "Python 3",
      "language": "python"
    },
    "language_info": {
      "mimetype": "text/x-python",
      "nbconvert_exporter": "python",
      "name": "python",
      "pygments_lexer": "ipython3",
      "version": "3.5.4",
      "file_extension": ".py",
      "codemirror_mode": {
        "version": 3,
        "name": "ipython"
      }
    }
  },
  "nbformat": 4,
  "nbformat_minor": 1
}